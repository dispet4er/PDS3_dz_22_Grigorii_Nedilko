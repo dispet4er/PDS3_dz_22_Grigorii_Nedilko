{
 "cells": [
  {
   "cell_type": "code",
   "execution_count": 1,
   "id": "f397044a",
   "metadata": {},
   "outputs": [],
   "source": [
    "math = set(range(1, 38)) - set(range(1, 16))\n",
    "physics = set(range(1, 38)) - set(range(1, 17))\n",
    "chemistry = set(range(1, 38)) - set(range(1, 20))\n",
    "math_physics = set(range(1, 8))\n",
    "math_chemistry = set(range(1, 10))\n",
    "physics_chemistry = set(range(1, 7))\n",
    "all_three = set(range(1, 5))"
   ]
  },
  {
   "cell_type": "code",
   "execution_count": 2,
   "id": "c101170d",
   "metadata": {},
   "outputs": [],
   "source": [
    "excellent = math | physics | chemistry | math_physics | math_chemistry | physics_chemistry | all_three"
   ]
  },
  {
   "cell_type": "code",
   "execution_count": 4,
   "id": "90d2b29b",
   "metadata": {},
   "outputs": [
    {
     "name": "stdout",
     "output_type": "stream",
     "text": [
      "Хоча б оду оцінку відмінно отримало 31 студентів\n"
     ]
    }
   ],
   "source": [
    "print(\"Хоча б оду оцінку відмінно отримало\", len(excellent), \"студентів\")"
   ]
  },
  {
   "cell_type": "code",
   "execution_count": null,
   "id": "0c10f568",
   "metadata": {},
   "outputs": [],
   "source": []
  }
 ],
 "metadata": {
  "kernelspec": {
   "display_name": "Python 3 (ipykernel)",
   "language": "python",
   "name": "python3"
  },
  "language_info": {
   "codemirror_mode": {
    "name": "ipython",
    "version": 3
   },
   "file_extension": ".py",
   "mimetype": "text/x-python",
   "name": "python",
   "nbconvert_exporter": "python",
   "pygments_lexer": "ipython3",
   "version": "3.10.8"
  }
 },
 "nbformat": 4,
 "nbformat_minor": 5
}
