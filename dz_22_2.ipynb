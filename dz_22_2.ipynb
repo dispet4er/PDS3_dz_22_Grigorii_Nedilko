{
 "cells": [
  {
   "cell_type": "code",
   "execution_count": 1,
   "id": "5bdcab29",
   "metadata": {},
   "outputs": [],
   "source": [
    "rainy_days = set(range(1, 13))\n",
    "windy_days = set(range(6, 14))\n",
    "cold_days = set(range(23, 27))\n",
    "rainy_windy_days = set(range(9, 14))\n",
    "rainy_cold_days = set(range(10, 13))\n",
    "windy_cold_days = set(range(6, 8)) | set(range(23, 25))\n",
    "rainy_windy_cold_day = set([11])"
   ]
  },
  {
   "cell_type": "code",
   "execution_count": 2,
   "id": "c39d7991",
   "metadata": {},
   "outputs": [],
   "source": [
    "sunny_days = set(range(1, 31)) - (rainy_days | windy_days | cold_days | rainy_windy_days | rainy_cold_days | windy_cold_days | rainy_windy_cold_day)"
   ]
  },
  {
   "cell_type": "code",
   "execution_count": 3,
   "id": "d5a77686",
   "metadata": {},
   "outputs": [
    {
     "name": "stdout",
     "output_type": "stream",
     "text": [
      "У вересні було 13 днів із сонячною погодою.\n"
     ]
    }
   ],
   "source": [
    "print(\"У вересні було\", len(sunny_days), \"днів із сонячною погодою.\")"
   ]
  },
  {
   "cell_type": "code",
   "execution_count": null,
   "id": "30e6f3d3",
   "metadata": {},
   "outputs": [],
   "source": []
  }
 ],
 "metadata": {
  "kernelspec": {
   "display_name": "Python 3 (ipykernel)",
   "language": "python",
   "name": "python3"
  },
  "language_info": {
   "codemirror_mode": {
    "name": "ipython",
    "version": 3
   },
   "file_extension": ".py",
   "mimetype": "text/x-python",
   "name": "python",
   "nbconvert_exporter": "python",
   "pygments_lexer": "ipython3",
   "version": "3.10.8"
  }
 },
 "nbformat": 4,
 "nbformat_minor": 5
}
